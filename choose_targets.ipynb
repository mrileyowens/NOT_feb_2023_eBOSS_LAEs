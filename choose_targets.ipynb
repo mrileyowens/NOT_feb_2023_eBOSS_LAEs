{
 "cells": [
  {
   "cell_type": "code",
   "execution_count": 16,
   "metadata": {},
   "outputs": [],
   "source": [
    "# Author: M. Riley Owens (GitHub: mrileyowens)\n",
    "\n",
    "# This file determines lensed LAE candidates in eBOSS\n",
    "# identified by Cao et al. 2020 that the Nordic Optical\n",
    "# Telescope can observe in February 2023."
   ]
  },
  {
   "cell_type": "code",
   "execution_count": 17,
   "metadata": {},
   "outputs": [],
   "source": [
    "import os\n",
    "\n",
    "import pandas as pd\n",
    "\n",
    "import numpy as np"
   ]
  },
  {
   "cell_type": "code",
   "execution_count": 18,
   "metadata": {},
   "outputs": [],
   "source": [
    "def choose():\n",
    "\n",
    "    '''\n",
    "    Identifies accessible targets and saves them to a .csv\n",
    "    '''\n",
    "\n",
    "    # Set home directory\n",
    "    home = os.getcwd()\n",
    "\n",
    "    # Get the catalog of double-peaked, lensed LAE candidates in\n",
    "    # SDSS eBOSS\n",
    "    df = pd.read_csv(home + '/double_peak_catalog.csv', header=0)\n",
    "\n",
    "    # Extract SDSS IDs and coordinates of the targets\n",
    "    names = df.iloc[:,0].to_numpy(dtype='str')\n",
    "    ra = df.iloc[:,1].to_numpy(dtype='str')\n",
    "    dec = df.iloc[:,2].to_numpy(dtype='str')\n",
    "\n",
    "    # Initiate array for the SDSS IDs of the accessible targets\n",
    "    choices = np.array([], dtype=str)\n",
    "    \n",
    "    # For each target\n",
    "    for i, name in enumerate(names):\n",
    "        \n",
    "        # If the RA is between 7-18h and declination more than -50 degrees\n",
    "        if ((int(ra[i].split(':')[0]) >= 7) & (int(ra[i].split(':')[0]) <= 18)) & (int(dec[i].split(':')[0]) >= -50):\n",
    "\n",
    "            # Append target to the list of accessible targets\n",
    "            choices = np.append(choices, name)\n",
    "            \n",
    "    # Save the SDSS IDs as a .csv\n",
    "    df = pd.DataFrame({'SDSS ID' : choices})\n",
    "    df.to_csv('not_targets.csv', index=False)"
   ]
  },
  {
   "cell_type": "code",
   "execution_count": 20,
   "metadata": {},
   "outputs": [],
   "source": [
    "choose()"
   ]
  }
 ],
 "metadata": {
  "kernelspec": {
   "display_name": "Python 3",
   "language": "python",
   "name": "python3"
  },
  "language_info": {
   "codemirror_mode": {
    "name": "ipython",
    "version": 3
   },
   "file_extension": ".py",
   "mimetype": "text/x-python",
   "name": "python",
   "nbconvert_exporter": "python",
   "pygments_lexer": "ipython3",
   "version": "3.9.5"
  },
  "orig_nbformat": 4,
  "vscode": {
   "interpreter": {
    "hash": "7b2b404ef7cfffcb2d9e58206576e0220bed399f08fa92bc6fd125b02b641f3f"
   }
  }
 },
 "nbformat": 4,
 "nbformat_minor": 2
}
